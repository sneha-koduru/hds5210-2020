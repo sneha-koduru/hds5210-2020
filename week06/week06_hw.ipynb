{
 "cells": [
  {
   "cell_type": "markdown",
   "metadata": {
    "nbgrader": {
     "grade": false,
     "grade_id": "intro",
     "locked": true,
     "schema_version": 1,
     "solution": false
    }
   },
   "source": [
    "# Week 6 Exercises\n",
    "\n",
    "_McKinney 6.1_\n",
    "\n",
    "There are multiple ways to solve the problems below.  You can use any one of several approaches.  For example, you can read CSV files using Pandas or the csv module.  Your score won't depend on which modules you choose to use unless explicitly noted below, but your programming style will still matter."
   ]
  },
  {
   "cell_type": "markdown",
   "metadata": {},
   "source": [
    "### 26.1 - When a Python program opens a file to read from it, no other programs can read from the same file at the same time.\n",
    "\n",
    "> True or False\n"
   ]
  },
  {
   "cell_type": "code",
   "execution_count": null,
   "metadata": {},
   "outputs": [],
   "source": [
    "answer261 = False"
   ]
  },
  {
   "cell_type": "markdown",
   "metadata": {},
   "source": [
    "### 26.2 - What is the advantage of opening files in Python using a `with` block?\n",
    "\n",
    "> A) It ensures the file is closed as soon as you're done using it\n",
    ">\n",
    "> B) It runs faster than not using the `with` block\n",
    ">\n",
    "> C) It automatically loads the whole file into memory so that it can be accessed faster\n",
    ">\n",
    "> D) Actually, it is the only way to do it\n"
   ]
  },
  {
   "cell_type": "code",
   "execution_count": null,
   "metadata": {},
   "outputs": [],
   "source": [
    "answer262 = \"A\""
   ]
  },
  {
   "cell_type": "markdown",
   "metadata": {},
   "source": [
    "### 26.3 - Which of the following is true?\n",
    "\n",
    "> A) Many files only contain text, but many file formats do not use text\n",
    ">\n",
    "> B) All files contain only text, it's the just the text contents that explain the data to the computer\n",
    ">\n",
    "> C) All files contain only text in either JSON, XML, or CSV.\n",
    ">\n",
    "> D) Even if files contain only text, there still has to be a special code at the beginning to explain that this file will contain only text.\n"
   ]
  },
  {
   "cell_type": "code",
   "execution_count": null,
   "metadata": {},
   "outputs": [],
   "source": [
    "answer263 = \"A\""
   ]
  },
  {
   "cell_type": "markdown",
   "metadata": {},
   "source": [
    "### 27.1 - Which of the following do you think is least likely to be used as a delimiter in structured files?\n",
    "\n",
    "> A) `,`\n",
    ">\n",
    "> B) `|`\n",
    ">\n",
    "> C) `[tab]`\n",
    ">\n",
    "> D) `[space]`\n"
   ]
  },
  {
   "cell_type": "code",
   "execution_count": null,
   "metadata": {},
   "outputs": [],
   "source": [
    "answer271 = \"C\""
   ]
  },
  {
   "cell_type": "markdown",
   "metadata": {},
   "source": [
    "### 27.2 - Which approaches can be used to read pipe-delimited (`|`) files?\n",
    "\n",
    "*Report your answer as a list of options, e.g.: `[\"A\",\"C\"]`*\n",
    "\n",
    "> A) Using the csv module\n",
    ">\n",
    "> B) Using the pandas module\n",
    ">\n",
    "> C) Using built-in file reading\n",
    ">\n",
    "> D) Using the psv module\n"
   ]
  },
  {
   "cell_type": "code",
   "execution_count": null,
   "metadata": {},
   "outputs": [],
   "source": [
    "answer272 = [\"B\",\"D\"]"
   ]
  },
  {
   "cell_type": "markdown",
   "metadata": {},
   "source": [
    "### 27.3 - In a CSV file, how does the format change if you want to have a `,` in the actual contents of the file rather than as a delimiter?\n",
    "\n",
    "> A) You can't do that.  You have to remove every occurence of `,`s\n",
    ">\n",
    "> B) Enclose the `,` using quotation marks\n",
    ">\n",
    "> C) Escape the `,` using a back-slash\n",
    ">\n",
    "> D) Nothing special, it will be obvious to the reader\n"
   ]
  },
  {
   "cell_type": "code",
   "execution_count": null,
   "metadata": {},
   "outputs": [],
   "source": [
    "answer273 = \"B\""
   ]
  },
  {
   "cell_type": "markdown",
   "metadata": {},
   "source": [
    "### 28.1 - Select all of the data types that can be represented within a JSON format:\n",
    "\n",
    "Provide your answer in the form of a list.  For example: `answer = [\"A\",\"B\"]` \n",
    "\n",
    "> A) str\n",
    ">\n",
    "> B) list\n",
    ">\n",
    "> C) dict\n",
    ">\n",
    "> D) int\n"
   ]
  },
  {
   "cell_type": "code",
   "execution_count": null,
   "metadata": {},
   "outputs": [],
   "source": [
    "answer281 = [\"A\".\"D\"]"
   ]
  },
  {
   "cell_type": "markdown",
   "metadata": {},
   "source": [
    "### 28.2 - JSON stands for:\n",
    "\n",
    "> A) Just a Simple Object Notation\n",
    ">\n",
    "> B) JavaScript Object Notation\n",
    ">\n",
    "> C) JavaScript Objects and Numbers\n",
    ">\n",
    "> D) Java Standard Object Notation\n"
   ]
  },
  {
   "cell_type": "code",
   "execution_count": null,
   "metadata": {},
   "outputs": [],
   "source": [
    "answer282 = \"B\""
   ]
  },
  {
   "cell_type": "markdown",
   "metadata": {},
   "source": [
    "### 28.3 - Without just running the code, what will the following code print?\n",
    "\n",
    "```\n",
    "import json\n",
    "\n",
    "data = \"\"\"\n",
    "[  {\"id\": { \"last name\": \"Boal\", \"first name\": \"Paul\", \"middle initial\": \"E\" }},\n",
    "   {\"id\": { \"last name\": \"Westhus\", \"first name\": \"Eric\" }} ]\n",
    "\"\"\"\n",
    "\n",
    "names = json.loads(data)\n",
    "list(names[1]['id'].keys())[1]\n",
    "```\n",
    "\n",
    "> A) 'Eric'\n",
    ">\n",
    "> B) 'first name'\n",
    ">\n",
    "> C) 'last name'\n",
    ">\n",
    "> D) 'Boal'\n"
   ]
  },
  {
   "cell_type": "code",
   "execution_count": null,
   "metadata": {},
   "outputs": [],
   "source": [
    "answer283 = \"B\""
   ]
  },
  {
   "cell_type": "markdown",
   "metadata": {},
   "source": [
    "### 29.1 - In this class, XML Stands for:\n",
    "\n",
    "> A) eXtensible Markup Language\n",
    ">\n",
    "> B) The 10th version of the Markup Language\n",
    ">\n",
    "> C) eXhange Markup Language\n",
    ">\n",
    "> D) X-Men Legends\n"
   ]
  },
  {
   "cell_type": "code",
   "execution_count": null,
   "metadata": {},
   "outputs": [],
   "source": [
    "answer291 = \"A\""
   ]
  },
  {
   "cell_type": "markdown",
   "metadata": {},
   "source": [
    "### 29.2 - Which of the following is not a type of data in an XML document?\n",
    "\n",
    "> A) tags\n",
    ">\n",
    "> B) attributes\n",
    ">\n",
    "> C) text\n",
    ">\n",
    "> D) list\n"
   ]
  },
  {
   "cell_type": "code",
   "execution_count": null,
   "metadata": {},
   "outputs": [],
   "source": [
    "answer292 = \"D\""
   ]
  },
  {
   "cell_type": "markdown",
   "metadata": {},
   "source": [
    "### 29.3 - True or False, each element in an XML document can only have one child with a specific tag.\n",
    "\n",
    "For example, is the following XML illegal because there are two child elements with the tag \"kid\":\n",
    "\n",
    "```xml\n",
    "<family>\n",
    "  <parent role=\"dad\">Paul Boal</parent>\n",
    "  <kid role=\"daughter\">Eleanor</kid>\n",
    "  <kid role=\"daughter\">Adelaide</kid>\n",
    "</family>\n",
    "```\n",
    "\n",
    "Answer `False` if you think the above XML is valid.  \n",
    "\n",
    "Answer `True` if you think the above XML is invalid.\n"
   ]
  },
  {
   "cell_type": "code",
   "execution_count": null,
   "metadata": {},
   "outputs": [],
   "source": [
    "answer293 = False"
   ]
  },
  {
   "cell_type": "markdown",
   "metadata": {
    "nbgrader": {
     "grade": false,
     "grade_id": "q1-description",
     "locked": true,
     "schema_version": 1,
     "solution": false
    }
   },
   "source": [
    "### 30.1 List of Allergies\n",
    "\n",
    "In this directory, there is a file called `allergies.json` that contains a list of patient allergies.  It is taken from sample data provided by the EHR vendor, Epic, here: https://open.epic.com/Clinical/Allergy\n",
    "\n",
    "Take some time to look at the structure of the file.  You can open it directly in Jupyter.\n",
    "\n",
    "Within the file, you'll see that it is a dictionary with many items in it.  One of those items is called `entry` and that item is a list of things.  You can tell that because the item name is immediately followed by an opening square bracket, signifying the start of a list.  It's line 11 of the file: `  \"entry\": [`\n",
    "\n",
    "Write a function named `allergy_count(json_file)` that takes as one parameter the name of the JSON file and returns an integer number of entries in that file.  Your function should open the file, read the json into a Python object, and return how many items there are in the list of `entry`s."
   ]
  },
  {
   "cell_type": "code",
   "execution_count": 11,
   "metadata": {
    "nbgrader": {
     "grade": false,
     "grade_id": "q1-answer",
     "locked": false,
     "schema_version": 1,
     "solution": true
    }
   },
   "outputs": [],
   "source": [
    "import json\n",
    "\n",
    "def allergy_count(json_file):\n",
    "    entry = json.load(open(json_file))\n",
    "    \n",
    "    return len(entry['entry'])\n"
   ]
  },
  {
   "cell_type": "code",
   "execution_count": 12,
   "metadata": {
    "nbgrader": {
     "grade": true,
     "grade_id": "q1-tests",
     "locked": true,
     "points": 5,
     "schema_version": 1,
     "solution": false
    }
   },
   "outputs": [],
   "source": [
    "assert type(allergy_count('allergies.json')) == int\n",
    "assert allergy_count('allergies.json') == 3\n"
   ]
  },
  {
   "cell_type": "markdown",
   "metadata": {
    "nbgrader": {
     "grade": false,
     "grade_id": "q2-question",
     "locked": true,
     "schema_version": 1,
     "solution": false
    }
   },
   "source": [
    "### 30.2 Patient Allergies and Reaction\n",
    "\n",
    "You'll see in the file that each of the items in the `entry` list have several other attributes including a patient name, substance text representation, and a reaction manifestation.  Create a function named `allergy_list(json_file)` that will create an output list that has patient name, allergy, and reaction for each `entry`.  The actual result you should get will be:\n",
    "\n",
    "```python\n",
    "[['Jason Argonaut', 'PENICILLIN G', 'Hives'],\n",
    " ['Jason Argonaut', 'SHELLFISH-DERIVED PRODUCTS', 'Itching'],\n",
    " ['Jason Argonaut', 'STRAWBERRY', 'Anaphylaxis']]\n",
    "```\n",
    "\n",
    "You'll notice that the reaction and the manifestation of that action are lists.  You only need to capture the first reaction and the first manifestation of the action.  That is, if there is a list of things, just output the first one."
   ]
  },
  {
   "cell_type": "code",
   "execution_count": 30,
   "metadata": {
    "nbgrader": {
     "grade": false,
     "grade_id": "q2-answer",
     "locked": false,
     "schema_version": 1,
     "solution": true
    }
   },
   "outputs": [],
   "source": [
    "import json\n",
    "\n",
    "def allergy_list(json_file):\n",
    "    entries = json.load(open(json_file))\n",
    "    \n",
    "    all_entries = []\n",
    "    for entry in entries ['entry']:\n",
    "            patient = entry['resource']['patient']['display']\n",
    "            substance = entry['resource']['substance']['text']\n",
    "            manifestation = entry['resource']['reaction'][0]['manifestation'][0]['text']\n",
    "            \n",
    "            all_entries.append([patient, substance, manifestation])\n",
    "    \n",
    "            \n",
    "    return all_entries\n"
   ]
  },
  {
   "cell_type": "code",
   "execution_count": 31,
   "metadata": {
    "nbgrader": {
     "grade": true,
     "grade_id": "q2-tests",
     "locked": true,
     "points": 10,
     "schema_version": 1,
     "solution": false
    }
   },
   "outputs": [],
   "source": [
    "output=[['Jason Argonaut', 'PENICILLIN G', 'Hives'],\n",
    " ['Jason Argonaut', 'SHELLFISH-DERIVED PRODUCTS', 'Itching'],\n",
    " ['Jason Argonaut', 'STRAWBERRY', 'Anaphylaxis']]\n",
    "\n",
    "assert allergy_list('allergies.json') == output\n"
   ]
  },
  {
   "cell_type": "markdown",
   "metadata": {
    "nbgrader": {
     "grade": false,
     "grade_id": "q3-question",
     "locked": true,
     "schema_version": 1,
     "solution": false
    }
   },
   "source": [
    "### 30.3 Allergy Reaction\n",
    "\n",
    "Write a function called `allergy_reaction(json_file,substance)` that takes two parameter and returns the reaction that will happen if the patient takes the specified substance.  Solve this, in part, by calling your `allergy_list` function inside your new `allergy_reaction` function.\n",
    "\n",
    "If the substance is not found in the allergy list, the function should return None."
   ]
  },
  {
   "cell_type": "code",
   "execution_count": 32,
   "metadata": {
    "nbgrader": {
     "grade": false,
     "grade_id": "q3-answer",
     "locked": false,
     "schema_version": 1,
     "solution": true
    }
   },
   "outputs": [],
   "source": [
    "import json\n",
    "\n",
    "def allergy_reaction(json_file, substance):\n",
    "    allergies = allergy_list(json_file)\n",
    "    \n",
    "    for allergy in allergies:\n",
    "        if allergy[1]==substance:\n",
    "            return allergy[2]\n",
    "        \n",
    "    return None\n",
    "    \n"
   ]
  },
  {
   "cell_type": "code",
   "execution_count": 33,
   "metadata": {
    "nbgrader": {
     "grade": true,
     "grade_id": "q3-tests",
     "locked": true,
     "points": 5,
     "schema_version": 1,
     "solution": false
    }
   },
   "outputs": [],
   "source": [
    "assert allergy_reaction('allergies.json','PENICILLIN G') == 'Hives'\n",
    "assert allergy_reaction('allergies.json','SHELLFISH-DERIVED PRODUCTS') == 'Itching'\n",
    "assert allergy_reaction('allergies.json','STRAWBERRY') == 'Anaphylaxis'\n",
    "assert allergy_reaction('allergies.json','PENICILLIN') == None"
   ]
  },
  {
   "cell_type": "markdown",
   "metadata": {},
   "source": [
    "### STRETCH - For those looking for an additional challenge\n",
    "\n",
    "The Coronavirus is creating quite the stir right now.  There are some sources suggesting that trends show it is going to be significantly more serious than SARS was back in the 2002 timeframe.  Here's one visualization trying to demonstrate that: https://www.reddit.com/r/China_Flu/comments/ev2b4v/i_updated_some_charts_comparing_this_outbreak/\n",
    "\n",
    "Someone on Kaggle has generously already compiled a dataset based on information from Johns Hopkins about the Coronavirus outbreak.  https://www.kaggle.com/brendaso/2019-coronavirus-dataset-01212020-01262020  Create a Kaggle account, if you don't already have one.  Download this data set and then upload it to your Jupyter Home folder.  (The \"up arrow\" button is for uploading a file.)\n",
    "\n",
    "Use Python's built-in `csv` module to read the data from this file and generate the following information: **what are the total confirmed cases in all of Mainland China as of the latest information in the data set?**  Some important things to note:\n",
    "* Each entry for a given city has the **cumulative** number of cases.  So that column is not additive (it cannot be summed).  You'll have to find a way to filter your data for the last day for each city, then total those up.\n",
    "* If you choose to parse the date column, you will want to lookup how to do that using Python's `datetime` module.  Especially the `strptime` function.  https://docs.python.org/3/library/datetime.html#strftime-strptime-behavior  Hint: you can parse a date string in the format 2/17/2020 using the code below.  This link will tell you what things like `%m` and `%Y` mean.\n",
    "\n",
    "```\n",
    "from datetime import datetime\n",
    "d = datetime.strptime('2/17/2020', '%m/%d/%Y')\n",
    "```\n",
    "\n",
    "If you want to take this another step, **create a list of tuples that contain (observate date, total confirmed) totalled over all locations represented in the data**"
   ]
  },
  {
   "cell_type": "code",
   "execution_count": null,
   "metadata": {},
   "outputs": [],
   "source": []
  },
  {
   "cell_type": "code",
   "execution_count": null,
   "metadata": {},
   "outputs": [],
   "source": []
  }
 ],
 "metadata": {
  "celltoolbar": "Create Assignment",
  "kernelspec": {
   "display_name": "Python 3",
   "language": "python",
   "name": "python3"
  },
  "language_info": {
   "codemirror_mode": {
    "name": "ipython",
    "version": 3
   },
   "file_extension": ".py",
   "mimetype": "text/x-python",
   "name": "python",
   "nbconvert_exporter": "python",
   "pygments_lexer": "ipython3",
   "version": "3.6.7"
  }
 },
 "nbformat": 4,
 "nbformat_minor": 2
}
